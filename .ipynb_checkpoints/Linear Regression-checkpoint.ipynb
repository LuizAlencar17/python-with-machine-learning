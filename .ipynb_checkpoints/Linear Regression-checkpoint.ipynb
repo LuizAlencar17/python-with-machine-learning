{
 "cells": [
  {
   "cell_type": "code",
   "execution_count": 1,
   "metadata": {},
   "outputs": [],
   "source": [
    "import pandas as pd\n",
    "\n",
    "from sklearn.linear_model import LinearRegression\n",
    "from sklearn.model_selection import train_test_split\n",
    "from sklearn.datasets import load_boston"
   ]
  },
  {
   "cell_type": "code",
   "execution_count": 2,
   "metadata": {},
   "outputs": [],
   "source": [
    "df = load_boston()\n",
    "\n",
    "x = df.data\n",
    "y = df.target"
   ]
  },
  {
   "cell_type": "code",
   "execution_count": 3,
   "metadata": {},
   "outputs": [],
   "source": [
    "X_train, X_test, y_train, y_test = train_test_split(x, y, test_size=0.2)"
   ]
  },
  {
   "cell_type": "code",
   "execution_count": 4,
   "metadata": {},
   "outputs": [],
   "source": [
    "classifier = LinearRegression()"
   ]
  },
  {
   "cell_type": "code",
   "execution_count": 5,
   "metadata": {},
   "outputs": [
    {
     "data": {
      "text/plain": [
       "LinearRegression()"
      ]
     },
     "execution_count": 5,
     "metadata": {},
     "output_type": "execute_result"
    }
   ],
   "source": [
    "classifier.fit(X_train, y_train)"
   ]
  },
  {
   "cell_type": "code",
   "execution_count": 6,
   "metadata": {},
   "outputs": [],
   "source": [
    "predictions = classifier.predict(X_test)"
   ]
  },
  {
   "cell_type": "code",
   "execution_count": 7,
   "metadata": {},
   "outputs": [
    {
     "name": "stdout",
     "output_type": "stream",
     "text": [
      "[21.66478874  8.68563302 26.29014607 14.93824239 21.99389214 17.10429612\n",
      " 30.26889561 20.08293311 22.34433093 18.35348171 23.55517465 19.46457685\n",
      " 20.72070413 14.83356098 26.08903493 21.00745051 20.84666148 19.61224968\n",
      " 14.86980921 21.41508636 22.97466177 -4.36348747 18.34147468 32.89602552\n",
      " 19.34660449 20.535872   13.76227573 15.09566324 23.01092664 19.94416643\n",
      " 19.90212056 17.81581955 15.92302029 14.27437279 31.65683413  7.93388171\n",
      " 13.74912739 35.94368955 35.29045951 20.00396059 22.06065814 34.75966589\n",
      " 17.98835751 16.23509261 16.04916542 23.19393592 15.85708155 14.80410521\n",
      " 15.54631955 19.20175467 19.22977003 25.04769452 12.23983285 19.9813875\n",
      " 17.31412773 34.19601975 17.50284612 30.54182889 12.17124879 20.60345157\n",
      " 19.1145628  15.79413154 26.03936302 23.73959753 18.44167977 31.58314877\n",
      " 39.20872459 24.48287148 18.24313249 15.43273051 31.84632018 36.26614885\n",
      " 14.51132199 18.45345718 20.57316211 21.52023554 34.37546869 19.00167251\n",
      " 14.59012311 11.93713805 16.3357225  10.35936598 21.83211893 35.01484845\n",
      " 12.82446383 38.49562226 20.43526377 20.28355173 15.2894378  23.20221944\n",
      " 13.8628336  17.38834832 23.30128915  3.07923856 27.60742916 20.60881757\n",
      " 31.07875285 20.10379007 12.87791957 17.70485417 13.32271608 29.06113476]\n"
     ]
    }
   ],
   "source": [
    "print(predictions)"
   ]
  },
  {
   "cell_type": "code",
   "execution_count": 8,
   "metadata": {},
   "outputs": [
    {
     "name": "stdout",
     "output_type": "stream",
     "text": [
      "RMSE:  5.094623433432565\n",
      "MAE :  3.3579412487731233\n"
     ]
    }
   ],
   "source": [
    "from sklearn.metrics import mean_squared_error, mean_absolute_error\n",
    "from math import sqrt\n",
    "\n",
    "print(\"RMSE: \", sqrt(mean_squared_error(y_test, predictions)))\n",
    "print(\"MAE : \", mean_absolute_error(y_test, predictions))"
   ]
  },
  {
   "cell_type": "code",
   "execution_count": null,
   "metadata": {},
   "outputs": [],
   "source": []
  }
 ],
 "metadata": {
  "kernelspec": {
   "display_name": "Python 3",
   "language": "python",
   "name": "python3"
  },
  "language_info": {
   "codemirror_mode": {
    "name": "ipython",
    "version": 3
   },
   "file_extension": ".py",
   "mimetype": "text/x-python",
   "name": "python",
   "nbconvert_exporter": "python",
   "pygments_lexer": "ipython3",
   "version": "3.8.3"
  }
 },
 "nbformat": 4,
 "nbformat_minor": 2
}
